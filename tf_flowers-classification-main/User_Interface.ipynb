{
 "cells": [
  {
   "cell_type": "code",
   "execution_count": 1,
   "id": "11520552-a8c8-4455-8b2d-19d3e2c380ae",
   "metadata": {},
   "outputs": [
    {
     "name": "stderr",
     "output_type": "stream",
     "text": [
      "d:\\Y4S2-Final Report\\tf_flowers-classification-main\\tf_flowers-classification-main\\env\\Lib\\site-packages\\tqdm\\auto.py:21: TqdmWarning: IProgress not found. Please update jupyter and ipywidgets. See https://ipywidgets.readthedocs.io/en/stable/user_install.html\n",
      "  from .autonotebook import tqdm as notebook_tqdm\n"
     ]
    },
    {
     "name": "stdout",
     "output_type": "stream",
     "text": [
      "* Running on local URL:  http://127.0.0.1:7860\n",
      "* Running on public URL: https://5cc3cbee03ca5e7e85.gradio.live\n",
      "\n",
      "This share link expires in 1 week. For free permanent hosting and GPU upgrades, run `gradio deploy` from the terminal in the working directory to deploy to Hugging Face Spaces (https://huggingface.co/spaces)\n"
     ]
    },
    {
     "data": {
      "text/html": [
       "<div><iframe src=\"https://5cc3cbee03ca5e7e85.gradio.live\" width=\"100%\" height=\"500\" allow=\"autoplay; camera; microphone; clipboard-read; clipboard-write;\" frameborder=\"0\" allowfullscreen></iframe></div>"
      ],
      "text/plain": [
       "<IPython.core.display.HTML object>"
      ]
     },
     "metadata": {},
     "output_type": "display_data"
    },
    {
     "data": {
      "text/plain": []
     },
     "execution_count": 1,
     "metadata": {},
     "output_type": "execute_result"
    },
    {
     "name": "stderr",
     "output_type": "stream",
     "text": [
      "C:\\Users\\User\\AppData\\Local\\Temp\\ipykernel_11816\\299409147.py:23: UserWarning: FigureCanvasAgg is non-interactive, and thus cannot be shown\n",
      "  plt.show()\n"
     ]
    },
    {
     "name": "stdout",
     "output_type": "stream",
     "text": [
      "\u001b[1m1/1\u001b[0m \u001b[32m━━━━━━━━━━━━━━━━━━━━\u001b[0m\u001b[37m\u001b[0m \u001b[1m1s\u001b[0m 972ms/step\n"
     ]
    }
   ],
   "source": [
    "import numpy as np\n",
    "from keras.preprocessing import image as keras_image\n",
    "import gradio as gr\n",
    "from keras.models import load_model\n",
    "from PIL import Image\n",
    "import matplotlib.pyplot as plt  # Importing matplotlib for debugging\n",
    "\n",
    "# Load the trained model\n",
    "model = load_model('my_model.keras')\n",
    "\n",
    "# Define class names\n",
    "class_names = ['Daisy', 'Dandelion', 'Roses', 'Sunflowers', 'Tulips']\n",
    "\n",
    "def predict_flower(img):\n",
    "    try:\n",
    "        # Ensure the image is in RGB format\n",
    "        img = img.convert('RGB')\n",
    "\n",
    "        # DEBUG: Show the image after conversion (to check if it's correct)\n",
    "        plt.imshow(img)\n",
    "        plt.title(\"Resized Image\")\n",
    "        plt.axis(\"off\")\n",
    "        plt.show()\n",
    "\n",
    "        # Resize the image to match the model's expected input size\n",
    "        img = img.resize((224, 224))\n",
    "\n",
    "        # Save the image for debugging\n",
    "        img.save(\"debug_webcam_input.jpg\")  # Save captured image to file for debugging\n",
    "        \n",
    "        # Convert image to array and preprocess it\n",
    "        img_array = keras_image.img_to_array(img)\n",
    "        img_array = np.expand_dims(img_array, axis=0)\n",
    "        img_array /= 255.0  # Normalize the image\n",
    "\n",
    "        # Make prediction using the model\n",
    "        prediction = model.predict(img_array)[0]\n",
    "\n",
    "        # Return the predictions\n",
    "        result = {class_names[i]: float(prediction[i]) for i in range(len(class_names))}\n",
    "        return result\n",
    "    except Exception as e:\n",
    "        return {\"Error\": str(e)}\n",
    "\n",
    "# Only use supported parameters for the Gradio interface\n",
    "image_input = gr.Image(\n",
    "    type=\"pil\",  # Ensure input is PIL.Image format\n",
    "    sources=[\"upload\", \"webcam\"],  # Allow both upload and webcam\n",
    "    height=300,  # Set webcam height\n",
    "    width=500    # Set webcam width\n",
    ")\n",
    "\n",
    "label_output = gr.Label(num_top_classes=5)\n",
    "\n",
    "# Gradio interface setup\n",
    "gr.Interface(\n",
    "    fn=predict_flower,\n",
    "    inputs=image_input,\n",
    "    outputs=label_output,\n",
    "    title=\"Flower Classification Using CNN\",\n",
    "    description=\"Upload an image of a flower or use your webcam to predict its category. Make sure the flower is centered and clearly visible.\",\n",
    ").launch(share=True)\n"
   ]
  },
  {
   "cell_type": "code",
   "execution_count": null,
   "id": "497479e5",
   "metadata": {},
   "outputs": [],
   "source": []
  },
  {
   "cell_type": "code",
   "execution_count": null,
   "id": "8d80d37e-1fe2-438b-9bd7-db472528fef5",
   "metadata": {},
   "outputs": [],
   "source": []
  }
 ],
 "metadata": {
  "kernelspec": {
   "display_name": "env",
   "language": "python",
   "name": "python3"
  },
  "language_info": {
   "codemirror_mode": {
    "name": "ipython",
    "version": 3
   },
   "file_extension": ".py",
   "mimetype": "text/x-python",
   "name": "python",
   "nbconvert_exporter": "python",
   "pygments_lexer": "ipython3",
   "version": "3.12.9"
  }
 },
 "nbformat": 4,
 "nbformat_minor": 5
}
